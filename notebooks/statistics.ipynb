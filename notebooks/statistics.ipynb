{
 "cells": [
  {
   "cell_type": "code",
   "execution_count": 1,
   "metadata": {},
   "outputs": [],
   "source": [
    "import pypsa\n",
    "\n",
    "import pandas as pd\n",
    "import matplotlib.pyplot as plt"
   ]
  },
  {
   "cell_type": "markdown",
   "metadata": {},
   "source": [
    "# Demand"
   ]
  },
  {
   "cell_type": "code",
   "execution_count": null,
   "metadata": {},
   "outputs": [
    {
     "name": "stderr",
     "output_type": "stream",
     "text": [
      "INFO:pypsa.io:Imported network base_s_50_lc1.5__Ca-Ia-Ea-Tb_2025.nc has buses, carriers, generators, global_constraints, lines, links, loads, storage_units, stores\n",
      "INFO:pypsa.io:Imported network base_s_50_lc1.5__Ca-Ia-Ea-Tb_2040.nc has buses, carriers, generators, global_constraints, lines, links, loads, storage_units, stores\n",
      "INFO:pypsa.io:Imported network base_s_50_lc1.5__Ca-Ia-Ea-Tb_2050.nc has buses, carriers, generators, global_constraints, lines, links, loads, storage_units, stores\n"
     ]
    }
   ],
   "source": [
    "n2025 = pypsa.Network(\n",
    "    \"networks/base_s_50_lc1.5__Ca-Ia-Ea-Tb_2025.nc\"\n",
    ")\n",
    "n2040 = pypsa.Network(\n",
    "    \"networks/base_s_50_lc1.5__Ca-Ia-Ea-Tb_2040.nc\"\n",
    ")\n",
    "n2050 = pypsa.Network(\n",
    "    \"networks/base_s_50_lc1.5__Ca-Ia-Ea-Tb_2050.nc\"\n",
    ")\n",
    "\n",
    "eb25 = n2025.statistics.energy_balance()\n",
    "eb50 = n2050.statistics.energy_balance()"
   ]
  },
  {
   "cell_type": "code",
   "execution_count": 3,
   "metadata": {},
   "outputs": [
    {
     "name": "stdout",
     "output_type": "stream",
     "text": [
      "Ammonia demand [Mt/a]: 16.5\n",
      "Ammonia demand [TWh]: 85.4\n"
     ]
    }
   ],
   "source": [
    "# Ammonia demand\n",
    "nh3_tonnes = -eb25.loc[(\"Load\", \"NH3\")].iloc[0] / 1e6\n",
    "\n",
    "print(\"Ammonia demand [Mt/a]:\", round(nh3_tonnes / 5.18, 1))\n",
    "print(\"Ammonia demand [TWh]:\", round(nh3_tonnes, 1))"
   ]
  },
  {
   "cell_type": "code",
   "execution_count": 4,
   "metadata": {},
   "outputs": [
    {
     "name": "stdout",
     "output_type": "stream",
     "text": [
      "Methanol demand [TWh/a]: 8.7\n"
     ]
    }
   ],
   "source": [
    "# Methanol demand\n",
    "meoh = (\n",
    "    -eb25.xs(\"industry methanol\", level=\"bus_carrier\")\n",
    "    .xs(\"Load\", level=\"component\")\n",
    "    .squeeze()\n",
    "    / 1e6\n",
    ")\n",
    "\n",
    "print(\"Methanol demand [TWh/a]:\", round(meoh, 1))"
   ]
  },
  {
   "cell_type": "code",
   "execution_count": 5,
   "metadata": {},
   "outputs": [
    {
     "name": "stdout",
     "output_type": "stream",
     "text": [
      "Oil demand for industry [Mt/a]: 918.7 (2025), 276.8 (2050)\n"
     ]
    }
   ],
   "source": [
    "# Oil demand in industry\n",
    "eb25.xs(\"oil\", level=\"bus_carrier\")\n",
    "oil_ind_25 = -eb25.loc[(\"Link\", \"naphtha for industry\", \"oil\")] / 1e6\n",
    "oil_ind_50 = -eb50.loc[(\"Link\", \"naphtha for industry\", \"oil\")] / 1e6\n",
    "\n",
    "print(\n",
    "    f\"Oil demand for industry [Mt/a]: {round(oil_ind_25, 1)} (2025), {round(oil_ind_50, 1)} (2050)\"\n",
    ")"
   ]
  },
  {
   "cell_type": "code",
   "execution_count": 6,
   "metadata": {},
   "outputs": [
    {
     "name": "stdout",
     "output_type": "stream",
     "text": [
      "Oil demand for agriculture machinery [TWh/a]: 102.8\n"
     ]
    }
   ],
   "source": [
    "# Agriculture machinery oil demand\n",
    "oil_agg = (\n",
    "    -eb50.xs(\"oil\", level=\"bus_carrier\")\n",
    "    .xs(\"agriculture machinery oil\", level=\"carrier\")\n",
    "    .squeeze()\n",
    "    / 1e6\n",
    ")\n",
    "\n",
    "print(f\"Oil demand for agriculture machinery [TWh/a]: {round(oil_agg, 1)}\")"
   ]
  },
  {
   "cell_type": "markdown",
   "metadata": {},
   "source": [
    "# Demand of EU vs. modelling region"
   ]
  },
  {
   "cell_type": "code",
   "execution_count": 49,
   "metadata": {},
   "outputs": [
    {
     "name": "stdout",
     "output_type": "stream",
     "text": [
      "Fraction of EU total load in modelling region: 82.9 %\n"
     ]
    }
   ],
   "source": [
    "# Modelling region:\n",
    "modelling_region = [\n",
    "    \"AL\",\n",
    "    \"AT\",\n",
    "    \"BA\",\n",
    "    \"BE\",\n",
    "    \"BG\",\n",
    "    \"CH\",\n",
    "    \"CZ\",\n",
    "    \"DE\",\n",
    "    \"DK\",\n",
    "    \"EE\",\n",
    "    \"ES\",\n",
    "    \"FI\",\n",
    "    \"FR\",\n",
    "    \"GB\",\n",
    "    \"GR\",\n",
    "    \"HR\",\n",
    "    \"HU\",\n",
    "    \"IE\",\n",
    "    \"IT\",\n",
    "    \"LT\",\n",
    "    \"LU\",\n",
    "    \"LV\",\n",
    "    \"ME\",\n",
    "    \"MK\",\n",
    "    \"NL\",\n",
    "    \"NO\",\n",
    "    \"PL\",\n",
    "    \"PT\",\n",
    "    \"RO\",\n",
    "    \"RS\",\n",
    "    \"SE\",\n",
    "    \"SI\",\n",
    "    \"SK\",\n",
    "]\n",
    "# EU countries\n",
    "EU_countries = [\n",
    "    \"AT\",\n",
    "    \"BE\",\n",
    "    \"BG\",\n",
    "    \"CY\",\n",
    "    \"CZ\",\n",
    "    \"DE\",\n",
    "    \"DK\",\n",
    "    \"EE\",\n",
    "    \"ES\",\n",
    "    \"FI\",\n",
    "    \"FR\",\n",
    "    \"GR\",\n",
    "    \"HR\",\n",
    "    \"HU\",\n",
    "    \"IE\",\n",
    "    \"IT\",\n",
    "    \"LT\",\n",
    "    \"LU\",\n",
    "    \"LV\",\n",
    "    \"MT\",\n",
    "    \"NL\",\n",
    "    \"PL\",\n",
    "    \"PT\",\n",
    "    \"RO\",\n",
    "    \"SE\",\n",
    "    \"SI\",\n",
    "    \"SK\",\n",
    "]\n",
    "\n",
    "# EU countries with modelling region\n",
    "EU_modelling_region = [\n",
    "    country for country in EU_countries if country in modelling_region\n",
    "]\n",
    "\n",
    "total_load = (\n",
    "    (n2040.snapshot_weightings.objective @ n2040.loads_t.p_set).rename(\"p_set\")\n",
    "    + n2040.loads.p_set\n",
    ").fillna(0)\n",
    "\n",
    "# Extract total load by country: index of total_load starts with two-letter country codes\n",
    "total_load_by_country = total_load.groupby(total_load.index.str[:2], axis=0).sum()\n",
    "total_load_by_country = total_load_by_country.loc[\n",
    "    total_load_by_country.index.isin(modelling_region)\n",
    "]\n",
    "\n",
    "# Fraction of EU total load\n",
    "total_load_EU = total_load_by_country.loc[\n",
    "    total_load_by_country.index.isin(EU_modelling_region)\n",
    "]\n",
    "EU_frac = total_load_EU.sum() / total_load_by_country.sum()\n",
    "print(\n",
    "    f\"Fraction of EU total load in modelling region: {round(EU_frac * 100, 1)} %\"\n",
    ")"
   ]
  },
  {
   "cell_type": "markdown",
   "metadata": {},
   "source": [
    "# Supply"
   ]
  },
  {
   "cell_type": "code",
   "execution_count": null,
   "metadata": {},
   "outputs": [
    {
     "data": {
      "text/html": [
       "<div>\n",
       "<style scoped>\n",
       "    .dataframe tbody tr th:only-of-type {\n",
       "        vertical-align: middle;\n",
       "    }\n",
       "\n",
       "    .dataframe tbody tr th {\n",
       "        vertical-align: top;\n",
       "    }\n",
       "\n",
       "    .dataframe thead tr th {\n",
       "        text-align: left;\n",
       "    }\n",
       "</style>\n",
       "<table border=\"1\" class=\"dataframe\">\n",
       "  <thead>\n",
       "    <tr>\n",
       "      <th></th>\n",
       "      <th colspan=\"3\" halign=\"left\">Solid biomass</th>\n",
       "      <th colspan=\"3\" halign=\"left\">Biogas</th>\n",
       "    </tr>\n",
       "    <tr>\n",
       "      <th></th>\n",
       "      <th>a</th>\n",
       "      <th>b</th>\n",
       "      <th>c</th>\n",
       "      <th>a</th>\n",
       "      <th>b</th>\n",
       "      <th>c</th>\n",
       "    </tr>\n",
       "  </thead>\n",
       "  <tbody>\n",
       "    <tr>\n",
       "      <th>2025</th>\n",
       "      <td>217</td>\n",
       "      <td>382</td>\n",
       "      <td>869</td>\n",
       "      <td>56</td>\n",
       "      <td>113</td>\n",
       "      <td>170</td>\n",
       "    </tr>\n",
       "    <tr>\n",
       "      <th>2030</th>\n",
       "      <td>366</td>\n",
       "      <td>688</td>\n",
       "      <td>1733</td>\n",
       "      <td>114</td>\n",
       "      <td>228</td>\n",
       "      <td>342</td>\n",
       "    </tr>\n",
       "    <tr>\n",
       "      <th>2035</th>\n",
       "      <td>535</td>\n",
       "      <td>1027</td>\n",
       "      <td>2574</td>\n",
       "      <td>174</td>\n",
       "      <td>348</td>\n",
       "      <td>522</td>\n",
       "    </tr>\n",
       "    <tr>\n",
       "      <th>2040</th>\n",
       "      <td>521</td>\n",
       "      <td>1020</td>\n",
       "      <td>2541</td>\n",
       "      <td>177</td>\n",
       "      <td>351</td>\n",
       "      <td>525</td>\n",
       "    </tr>\n",
       "    <tr>\n",
       "      <th>2045</th>\n",
       "      <td>427</td>\n",
       "      <td>1017</td>\n",
       "      <td>2585</td>\n",
       "      <td>179</td>\n",
       "      <td>354</td>\n",
       "      <td>529</td>\n",
       "    </tr>\n",
       "    <tr>\n",
       "      <th>2050</th>\n",
       "      <td>336</td>\n",
       "      <td>1014</td>\n",
       "      <td>2628</td>\n",
       "      <td>181</td>\n",
       "      <td>358</td>\n",
       "      <td>533</td>\n",
       "    </tr>\n",
       "  </tbody>\n",
       "</table>\n",
       "</div>"
      ],
      "text/plain": [
       "     Solid biomass             Biogas          \n",
       "                 a     b     c      a    b    c\n",
       "2025           217   382   869     56  113  170\n",
       "2030           366   688  1733    114  228  342\n",
       "2035           535  1027  2574    174  348  522\n",
       "2040           521  1020  2541    177  351  525\n",
       "2045           427  1017  2585    179  354  529\n",
       "2050           336  1014  2628    181  358  533"
      ]
     },
     "metadata": {},
     "output_type": "display_data"
    }
   ],
   "source": [
    "# Biomass availability\n",
    "# Colunms: multiindex with (setting, solid/gas)\n",
    "biomass = pd.DataFrame(\n",
    "    index=[\"2025\", \"2030\", \"2035\", \"2040\", \"2045\", \"2050\"],\n",
    "    columns=pd.MultiIndex.from_product([[\"Solid biomass\", \"Biogas\"], [\"a\", \"b\", \"c\"]]),\n",
    "    dtype=float,\n",
    ")\n",
    "for y in biomass.index:\n",
    "    for i in [\"a\", \"b\", \"c\"]:\n",
    "        df = pd.read_csv(\n",
    "            f\"../resources/Y1987_B{i}/biomass_potentials_s_50_{y}.csv\"\n",
    "        )\n",
    "        biomass.at[y, (\"Solid biomass\", i)] = df[\"solid biomass\"].sum() / 1e6\n",
    "        biomass.at[y, (\"Biogas\", i)] = df[\"biogas\"].sum() / 1e6\n",
    "\n",
    "biomass = biomass.round(0).astype(int)\n",
    "\n",
    "display(biomass)\n",
    "\n",
    "# Export as csv without header\n",
    "biomass.to_csv(\"figures/biomass_potentials.csv\", index_label=\"Year\", header=False)"
   ]
  },
  {
   "cell_type": "code",
   "execution_count": 8,
   "metadata": {},
   "outputs": [
    {
     "name": "stdout",
     "output_type": "stream",
     "text": [
      "carrier\n",
      "solar     10.7\n",
      "onwind     8.6\n",
      "Name: p_nom_max, dtype: float64\n"
     ]
    }
   ],
   "source": [
    "# Total installable capacity in TW\n",
    "gen_ex = n2025.generators.loc[n2025.generators.p_nom_extendable]\n",
    "print((gen_ex.groupby(\"carrier\").p_nom_max.sum()[[\"solar\", \"onwind\"]] / 1e6).round(1))"
   ]
  },
  {
   "cell_type": "markdown",
   "metadata": {},
   "source": [
    "# Costs"
   ]
  },
  {
   "cell_type": "code",
   "execution_count": 9,
   "metadata": {},
   "outputs": [
    {
     "data": {
      "text/html": [
       "<div>\n",
       "<style scoped>\n",
       "    .dataframe tbody tr th:only-of-type {\n",
       "        vertical-align: middle;\n",
       "    }\n",
       "\n",
       "    .dataframe tbody tr th {\n",
       "        vertical-align: top;\n",
       "    }\n",
       "\n",
       "    .dataframe thead th {\n",
       "        text-align: right;\n",
       "    }\n",
       "</style>\n",
       "<table border=\"1\" class=\"dataframe\">\n",
       "  <thead>\n",
       "    <tr style=\"text-align: right;\">\n",
       "      <th></th>\n",
       "      <th>2025</th>\n",
       "      <th>2030</th>\n",
       "      <th>2035</th>\n",
       "      <th>2040</th>\n",
       "      <th>2045</th>\n",
       "      <th>2050</th>\n",
       "    </tr>\n",
       "    <tr>\n",
       "      <th>Carrier</th>\n",
       "      <th></th>\n",
       "      <th></th>\n",
       "      <th></th>\n",
       "      <th></th>\n",
       "      <th></th>\n",
       "      <th></th>\n",
       "    </tr>\n",
       "  </thead>\n",
       "  <tbody>\n",
       "    <tr>\n",
       "      <th>Hydrogen</th>\n",
       "      <td>122.9</td>\n",
       "      <td>122.9</td>\n",
       "      <td>112.0</td>\n",
       "      <td>101.2</td>\n",
       "      <td>92.7</td>\n",
       "      <td>84.1</td>\n",
       "    </tr>\n",
       "    <tr>\n",
       "      <th>Ammonia</th>\n",
       "      <td>120.1</td>\n",
       "      <td>120.1</td>\n",
       "      <td>110.3</td>\n",
       "      <td>100.6</td>\n",
       "      <td>94.5</td>\n",
       "      <td>88.4</td>\n",
       "    </tr>\n",
       "    <tr>\n",
       "      <th>Methanol</th>\n",
       "      <td>165.6</td>\n",
       "      <td>165.6</td>\n",
       "      <td>151.9</td>\n",
       "      <td>138.2</td>\n",
       "      <td>128.5</td>\n",
       "      <td>118.7</td>\n",
       "    </tr>\n",
       "    <tr>\n",
       "      <th>Oil</th>\n",
       "      <td>234.2</td>\n",
       "      <td>234.2</td>\n",
       "      <td>214.0</td>\n",
       "      <td>193.9</td>\n",
       "      <td>178.6</td>\n",
       "      <td>163.4</td>\n",
       "    </tr>\n",
       "    <tr>\n",
       "      <th>Gas</th>\n",
       "      <td>128.4</td>\n",
       "      <td>128.4</td>\n",
       "      <td>118.2</td>\n",
       "      <td>108.1</td>\n",
       "      <td>102.2</td>\n",
       "      <td>96.2</td>\n",
       "    </tr>\n",
       "  </tbody>\n",
       "</table>\n",
       "</div>"
      ],
      "text/plain": [
       "           2025   2030   2035   2040   2045   2050\n",
       "Carrier                                           \n",
       "Hydrogen  122.9  122.9  112.0  101.2   92.7   84.1\n",
       "Ammonia   120.1  120.1  110.3  100.6   94.5   88.4\n",
       "Methanol  165.6  165.6  151.9  138.2  128.5  118.7\n",
       "Oil       234.2  234.2  214.0  193.9  178.6  163.4\n",
       "Gas       128.4  128.4  118.2  108.1  102.2   96.2"
      ]
     },
     "metadata": {},
     "output_type": "display_data"
    }
   ],
   "source": [
    "years = [2025, 2030, 2035, 2040, 2045, 2050]\n",
    "\n",
    "import_carriers = {\n",
    "    \"H2\": \"shipping-lh2\",\n",
    "    \"ammonia\": \"shipping-lnh3\",\n",
    "    \"methanol\": \"shipping-meoh\",\n",
    "    \"oil\": \"shipping-ftfuel\",\n",
    "    \"gas\": \"shipping-lch4\",\n",
    "}\n",
    "\n",
    "pretty_carrier_names = {\n",
    "    \"H2\": \"Hydrogen\",\n",
    "    \"ammonia\": \"Ammonia\",\n",
    "    \"methanol\": \"Methanol\",\n",
    "    \"oil\": \"Oil\",\n",
    "    \"gas\": \"Gas\",\n",
    "}\n",
    "\n",
    "costs = {\n",
    "    y: pd.read_csv(f\"../resources/Y1987_Bb/costs_{y}.csv\", index_col=[0, 1])\n",
    "    for y in years\n",
    "}\n",
    "\n",
    "# Create table with years as columns, carriers as rows and fuel costs as values\n",
    "import_costs = pd.DataFrame(index=import_carriers.keys(), columns=years)\n",
    "for y in years:\n",
    "    for carrier, name in import_carriers.items():\n",
    "        import_costs.at[carrier, y] = costs[y].at[(name, \"fuel\"), \"value\"]\n",
    "\n",
    "import_costs.index = import_costs.index.map(pretty_carrier_names)\n",
    "# Round values to 1 decimal\n",
    "import_costs = import_costs.astype(float).round(1)\n",
    "\n",
    "import_costs.index.name = \"Carrier\"\n",
    "\n",
    "display(import_costs)\n",
    "import_costs.to_csv(\"figures/import_costs.csv\")"
   ]
  },
  {
   "cell_type": "code",
   "execution_count": 67,
   "metadata": {},
   "outputs": [
    {
     "data": {
      "text/plain": [
       "2025    2152.0\n",
       "2030    1793.0\n",
       "2035    1614.0\n",
       "2040    1435.0\n",
       "2045    1315.0\n",
       "2050    1196.0\n",
       "dtype: float64"
      ]
     },
     "metadata": {},
     "output_type": "display_data"
    }
   ],
   "source": [
    "electrolysis_costs = {\n",
    "    h: costs[h].loc[(\"electrolysis\", \"investment\"), \"value\"] for h in years\n",
    "}\n",
    "electrolysis_costs = pd.Series(electrolysis_costs)\n",
    "\n",
    "display(electrolysis_costs.round(0))"
   ]
  },
  {
   "cell_type": "code",
   "execution_count": 69,
   "metadata": {},
   "outputs": [
    {
     "data": {
      "text/plain": [
       "2025    0.587\n",
       "2030    0.622\n",
       "2035    0.637\n",
       "2040    0.653\n",
       "2045    0.676\n",
       "2050    0.699\n",
       "dtype: float64"
      ]
     },
     "metadata": {},
     "output_type": "display_data"
    }
   ],
   "source": [
    "electrolysis_efficiency = {\n",
    "    h: costs[h].loc[(\"electrolysis\", \"efficiency\"), \"value\"] for h in years\n",
    "}\n",
    "electrolysis_efficiency = pd.Series(electrolysis_efficiency)\n",
    "\n",
    "display(electrolysis_efficiency.round(3))"
   ]
  },
  {
   "cell_type": "markdown",
   "metadata": {},
   "source": [
    "# Conversion technologies"
   ]
  },
  {
   "cell_type": "code",
   "execution_count": 10,
   "metadata": {},
   "outputs": [
    {
     "name": "stdout",
     "output_type": "stream",
     "text": [
      "Production of oil: ['oil green import' 'oil refining' 'Fischer-Tropsch'\n",
      " 'biomass to liquid CC' 'biomass to liquid']\n",
      "Production of gas: ['biogas to gas' 'gas green import' 'gas pipeline' 'Sabatier'\n",
      " 'gas pipeline new']\n",
      "Production of methanol: ['methanol green import' 'methanolisation' 'biomass-to-methanol CC'\n",
      " 'biomass-to-methanol']\n",
      "Production of NH3: ['ammonia green import' 'Haber-Bosch']\n",
      "Production of H2: ['H2 Electrolysis' 'H2 green import' 'solid biomass to hydrogen' 'SMR CC'\n",
      " 'SMR' 'ammonia cracker' 'H2 pipeline']\n"
     ]
    }
   ],
   "source": [
    "n = n2050\n",
    "\n",
    "for carrier in [\"oil\", \"gas\", \"methanol\", \"NH3\", \"H2\"]:\n",
    "    print(\n",
    "        f\"Production of {carrier}: {n.links.loc[n.links.bus1.map(n.buses.carrier) == carrier].carrier.unique()}\"\n",
    "    )"
   ]
  },
  {
   "cell_type": "markdown",
   "metadata": {},
   "source": [
    "# Storage technologies"
   ]
  },
  {
   "cell_type": "code",
   "execution_count": 11,
   "metadata": {},
   "outputs": [
    {
     "data": {
      "text/plain": [
       "bus\n",
       "EV battery                                      [EV battery]\n",
       "H2                                                [H2 Store]\n",
       "NH3                                          [ammonia store]\n",
       "battery                                            [battery]\n",
       "biogas                                              [biogas]\n",
       "co2                                                    [co2]\n",
       "co2 sequestered                            [co2 sequestered]\n",
       "co2 stored                                      [co2 stored]\n",
       "coal                                                  [coal]\n",
       "gas                                                    [gas]\n",
       "lignite                                            [lignite]\n",
       "methanol                                          [methanol]\n",
       "oil                                                    [oil]\n",
       "rural water tanks                        [rural water tanks]\n",
       "solid biomass                                [solid biomass]\n",
       "uranium                                            [uranium]\n",
       "urban central water tanks        [urban central water tanks]\n",
       "urban decentral water tanks    [urban decentral water tanks]\n",
       "Name: carrier, dtype: object"
      ]
     },
     "execution_count": 11,
     "metadata": {},
     "output_type": "execute_result"
    }
   ],
   "source": [
    "n.stores.carrier.groupby(n.stores.bus.map(n.buses.carrier)).unique()"
   ]
  },
  {
   "cell_type": "code",
   "execution_count": 12,
   "metadata": {},
   "outputs": [
    {
     "name": "stdout",
     "output_type": "stream",
     "text": [
      "Dispatch capacity:\n"
     ]
    },
    {
     "data": {
      "text/plain": [
       "carrier\n",
       "PHS       56.87754\n",
       "hydro    103.14744\n",
       "Name: p_nom, dtype: float64"
      ]
     },
     "metadata": {},
     "output_type": "display_data"
    },
    {
     "name": "stdout",
     "output_type": "stream",
     "text": [
      "Max hours:\n"
     ]
    },
    {
     "data": {
      "text/plain": [
       "carrier\n",
       "PHS       148.395521\n",
       "hydro    8510.298593\n",
       "Name: max_hours, dtype: float64"
      ]
     },
     "metadata": {},
     "output_type": "display_data"
    },
    {
     "name": "stdout",
     "output_type": "stream",
     "text": [
      "Storage capacity:\n"
     ]
    },
    {
     "data": {
      "text/plain": [
       "carrier\n",
       "PHS        8.660784\n",
       "hydro    149.284524\n",
       "dtype: float64"
      ]
     },
     "metadata": {},
     "output_type": "display_data"
    }
   ],
   "source": [
    "print(\"Dispatch capacity:\")\n",
    "display(n.storage_units.groupby(\"carrier\").p_nom.sum() / 1e3) # GW\n",
    "\n",
    "print(\"Max hours:\")\n",
    "display(n.storage_units.groupby(\"carrier\").max_hours.mean())\n",
    "\n",
    "print(\"Storage capacity:\")\n",
    "display(\n",
    "    (n.storage_units.p_nom * n.storage_units.max_hours)\n",
    "    .groupby(n.storage_units.carrier)\n",
    "    .sum()\n",
    "    / 1e6 # TWh\n",
    ")"
   ]
  },
  {
   "cell_type": "code",
   "execution_count": 13,
   "metadata": {},
   "outputs": [
    {
     "name": "stdout",
     "output_type": "stream",
     "text": [
      "EV battery capacity: 5.217019242860411\n",
      "EV v2g dispatch capacity: 2295.488466858581\n"
     ]
    }
   ],
   "source": [
    "# BEV storage\n",
    "bev_battery = n.stores.loc[n.stores.carrier == \"EV battery\"].index\n",
    "print(\"EV battery capacity:\", n.stores.loc[bev_battery].e_nom.sum() / 1e6) # TWh\n",
    "\n",
    "# BEV v2g capacity\n",
    "print(\"EV v2g dispatch capacity:\", n.links.loc[n.links.carrier == \"V2G\", \"p_nom\"].sum() / 1e3) # GW"
   ]
  },
  {
   "cell_type": "code",
   "execution_count": 14,
   "metadata": {},
   "outputs": [
    {
     "name": "stdout",
     "output_type": "stream",
     "text": [
      "Salt cavern locations: ['DE0 0 H2' 'DE0 3 H2' 'DE0 5 H2' 'DK0 0 H2' 'DK1 0 H2' 'ES0 0 H2'\n",
      " 'GB3 0 H2' 'GB3 2 H2' 'GB4 0 H2' 'GR0 0 H2' 'NL0 0 H2' 'PL0 0 H2'\n",
      " 'PT0 0 H2']\n",
      "Max potential underground hydrogen storage: 2559.9107659891033\n"
     ]
    }
   ],
   "source": [
    "# Salt cavern hydrogen storage\n",
    "salt_caverns = n.stores.loc[(n.stores.carrier == \"H2 Store\") & (n.stores.index.str.endswith(\"-2050\"))]\n",
    "\n",
    "print(\"Salt cavern locations:\" , salt_caverns.bus.unique())\n",
    "\n",
    "print(\"Max potential underground hydrogen storage:\", salt_caverns.e_nom_max.sum() / 1e6) # TWh"
   ]
  },
  {
   "cell_type": "code",
   "execution_count": 15,
   "metadata": {},
   "outputs": [
    {
     "name": "stdout",
     "output_type": "stream",
     "text": [
      "Gas storage capacity: 1396.904749488332\n"
     ]
    }
   ],
   "source": [
    "# Gas storage\n",
    "gas_storage = n2025.stores.loc[n2025.stores.carrier == \"gas\"]\n",
    "print(\"Gas storage capacity:\", gas_storage.e_nom_opt.sum() / 1e6) # TWh"
   ]
  },
  {
   "cell_type": "markdown",
   "metadata": {},
   "source": [
    "# Emissions"
   ]
  },
  {
   "cell_type": "code",
   "execution_count": 16,
   "metadata": {},
   "outputs": [
    {
     "name": "stdout",
     "output_type": "stream",
     "text": [
      "Process emissions in 2025: 189.85\n",
      "Process emissions in 2050: 123.07\n"
     ]
    }
   ],
   "source": [
    "print(\"Process emissions in 2025:\", n2025.statistics.energy_balance().loc[(\"Load\", \"process emissions\")].squeeze() / 1e6)\n",
    "print(\"Process emissions in 2050:\", n2050.statistics.energy_balance().loc[(\"Load\", \"process emissions\")].squeeze() / 1e6)"
   ]
  },
  {
   "cell_type": "markdown",
   "metadata": {},
   "source": [
    "# Value of hydrogen sector"
   ]
  },
  {
   "cell_type": "code",
   "execution_count": 19,
   "metadata": {},
   "outputs": [],
   "source": [
    "fn = f\"cache_results.csv\"\n",
    "cols = pd.read_csv(fn).columns\n",
    "h2prod_col = cols.get_loc(\"h2prod\")\n",
    "df = pd.read_csv(fn, index_col=list(range(h2prod_col)))\n",
    "\n",
    "# Convert \"year\" index level values from int to str\n",
    "df.index = df.index.set_levels(df.index.levels[1].astype(str), level=1)"
   ]
  },
  {
   "cell_type": "code",
   "execution_count": 20,
   "metadata": {},
   "outputs": [
    {
     "name": "stdout",
     "output_type": "stream",
     "text": [
      "Fraction of system cost covered by hydrogen value:\n"
     ]
    },
    {
     "data": {
      "text/plain": [
       "count    216.0\n",
       "mean       3.9\n",
       "std        3.8\n",
       "min        0.0\n",
       "25%        0.1\n",
       "50%        3.3\n",
       "75%        6.9\n",
       "max       15.9\n",
       "dtype: float64"
      ]
     },
     "metadata": {},
     "output_type": "display_data"
    }
   ],
   "source": [
    "frac_sys_cost = (df.h2value / df.system_cost).xs(\"opt\", level=\"sense\").xs(2050, level=\"horizon\")\n",
    "\n",
    "print(\"Fraction of system cost covered by hydrogen value:\")\n",
    "display((frac_sys_cost * 100).describe().round(1))"
   ]
  }
 ],
 "metadata": {
  "kernelspec": {
   "display_name": "eu-hydrogen-new",
   "language": "python",
   "name": "python3"
  },
  "language_info": {
   "codemirror_mode": {
    "name": "ipython",
    "version": 3
   },
   "file_extension": ".py",
   "mimetype": "text/x-python",
   "name": "python",
   "nbconvert_exporter": "python",
   "pygments_lexer": "ipython3",
   "version": "3.12.5"
  }
 },
 "nbformat": 4,
 "nbformat_minor": 2
}
