{
 "cells": [
  {
   "cell_type": "code",
   "execution_count": 1,
   "metadata": {},
   "outputs": [
    {
     "name": "stderr",
     "output_type": "stream",
     "text": [
      "ERROR 1: PROJ: proj_create_from_database: Open of /fp/homes01/u01/ec-koenvg/.conda/envs/my_base/envs/eu-hydrogen/share/proj failed\n"
     ]
    }
   ],
   "source": [
    "import pypsa\n",
    "\n",
    "import pandas as pd\n",
    "import matplotlib.pyplot as plt"
   ]
  },
  {
   "cell_type": "markdown",
   "metadata": {},
   "source": [
    "# Demand"
   ]
  },
  {
   "cell_type": "code",
   "execution_count": 2,
   "metadata": {},
   "outputs": [
    {
     "name": "stderr",
     "output_type": "stream",
     "text": [
      "INFO:pypsa.io:Imported network base_s_60_lc1.5__Ca-Ia-Ea_2025.nc has buses, carriers, generators, global_constraints, lines, links, loads, storage_units, stores\n",
      "INFO:pypsa.io:Imported network base_s_60_lc1.5__Ca-Ia-Ea_2050.nc has buses, carriers, generators, global_constraints, lines, links, loads, storage_units, stores\n"
     ]
    }
   ],
   "source": [
    "n2025 = pypsa.Network(\n",
    "    \"networks/base_s_60_lc1.5__Ca-Ia-Ea_2025.nc\"\n",
    ")\n",
    "n2050 = pypsa.Network(\n",
    "    \"networks/base_s_60_lc1.5__Ca-Ia-Ea_2050.nc\"\n",
    ")\n",
    "\n",
    "eb25 = n2025.statistics.energy_balance()\n",
    "eb50 = n2050.statistics.energy_balance()"
   ]
  },
  {
   "cell_type": "code",
   "execution_count": 3,
   "metadata": {},
   "outputs": [
    {
     "name": "stdout",
     "output_type": "stream",
     "text": [
      "Ammonia demand [Mt/a]: 16.5\n",
      "Ammonia demand [TWh]: 85.4\n"
     ]
    }
   ],
   "source": [
    "# Ammonia demand\n",
    "nh3_tonnes = -eb25.loc[(\"Load\", \"NH3\")].iloc[0] / 1e6\n",
    "\n",
    "print(\"Ammonia demand [Mt/a]:\", round(nh3_tonnes / 5.18, 1))\n",
    "print(\"Ammonia demand [TWh]:\", round(nh3_tonnes, 1))"
   ]
  },
  {
   "cell_type": "code",
   "execution_count": 4,
   "metadata": {},
   "outputs": [
    {
     "name": "stdout",
     "output_type": "stream",
     "text": [
      "Methanol demand [TWh/a]: 8.7\n"
     ]
    }
   ],
   "source": [
    "# Methanol demand\n",
    "meoh = (\n",
    "    -eb25.xs(\"industry methanol\", level=\"bus_carrier\")\n",
    "    .xs(\"Load\", level=\"component\")\n",
    "    .squeeze()\n",
    "    / 1e6\n",
    ")\n",
    "\n",
    "print(\"Methanol demand [TWh/a]:\", round(meoh, 1))"
   ]
  },
  {
   "cell_type": "code",
   "execution_count": 5,
   "metadata": {},
   "outputs": [
    {
     "name": "stdout",
     "output_type": "stream",
     "text": [
      "Oil demand for industry [Mt/a]: 918.7 (2025), 276.8 (2050)\n"
     ]
    }
   ],
   "source": [
    "# Oil demand in industry\n",
    "eb25.xs(\"oil\", level=\"bus_carrier\")\n",
    "oil_ind_25 = -eb25.loc[(\"Link\", \"naphtha for industry\", \"oil\")] / 1e6\n",
    "oil_ind_50 = -eb50.loc[(\"Link\", \"naphtha for industry\", \"oil\")] / 1e6\n",
    "\n",
    "print(\n",
    "    f\"Oil demand for industry [Mt/a]: {round(oil_ind_25, 1)} (2025), {round(oil_ind_50, 1)} (2050)\"\n",
    ")"
   ]
  },
  {
   "cell_type": "code",
   "execution_count": 6,
   "metadata": {},
   "outputs": [
    {
     "name": "stdout",
     "output_type": "stream",
     "text": [
      "Oil demand for agriculture machinery [TWh/a]: 102.8\n"
     ]
    }
   ],
   "source": [
    "# Agriculture machinery oil demand\n",
    "oil_agg = (\n",
    "    -eb50.xs(\"oil\", level=\"bus_carrier\")\n",
    "    .xs(\"agriculture machinery oil\", level=\"carrier\")\n",
    "    .squeeze()\n",
    "    / 1e6\n",
    ")\n",
    "\n",
    "print(f\"Oil demand for agriculture machinery [TWh/a]: {round(oil_agg, 1)}\")"
   ]
  },
  {
   "cell_type": "markdown",
   "metadata": {},
   "source": [
    "# Supply"
   ]
  },
  {
   "cell_type": "code",
   "execution_count": 7,
   "metadata": {},
   "outputs": [
    {
     "name": "stdout",
     "output_type": "stream",
     "text": [
      "Solid biomass in setting a: 340.0 TPWh\n",
      "Biogas in setting a:        180.0 TWh\n",
      "Solid biomass in setting b: 1010.0 TPWh\n",
      "Biogas in setting b:        360.0 TWh\n",
      "Solid biomass in setting c: 2630.0 TPWh\n",
      "Biogas in setting c:        530.0 TWh\n"
     ]
    }
   ],
   "source": [
    "# Biomass availability\n",
    "for i in [\"a\", \"b\", \"c\"]:\n",
    "    biomass = pd.read_csv(f\"../resources/Y1987_B{i}/biomass_potentials_s_45_2050.csv\")\n",
    "    print(f\"Solid biomass in setting {i}: {(biomass['solid biomass'].sum() / 1e6).round(-1)} TPWh\")\n",
    "    print(f\"Biogas in setting {i}:        {(biomass['biogas'].sum() / 1e6).round(-1)} TWh\")"
   ]
  },
  {
   "cell_type": "code",
   "execution_count": 8,
   "metadata": {},
   "outputs": [
    {
     "data": {
      "text/plain": [
       "Generator\n",
       "AL0 0 curtailment                                     1.000000e+06\n",
       "AL0 0 ror                                             4.820020e+01\n",
       "AL0 0 urban central heat vent                                  inf\n",
       "AT0 0 curtailment                                     1.000000e+06\n",
       "AT0 0 gas                                             1.785957e+03\n",
       "                                                          ...     \n",
       "SK0 0 solar-2015                                               inf\n",
       "SK0 0 solar-2020                                               inf\n",
       "SK0 0 solar-2025                                      9.858302e+04\n",
       "SK0 0 urban central solar thermal collector-2025               inf\n",
       "SK0 0 urban decentral solar thermal collector-2025             inf\n",
       "Name: p_nom_max, Length: 1117, dtype: float64"
      ]
     },
     "execution_count": 8,
     "metadata": {},
     "output_type": "execute_result"
    }
   ],
   "source": [
    "n2025.generators.p_nom_max"
   ]
  },
  {
   "cell_type": "code",
   "execution_count": 9,
   "metadata": {},
   "outputs": [
    {
     "name": "stdout",
     "output_type": "stream",
     "text": [
      "carrier\n",
      "solar     10.7\n",
      "onwind     8.6\n",
      "Name: p_nom_max, dtype: float64\n"
     ]
    }
   ],
   "source": [
    "# Total installable capacity\n",
    "gen_ex = n2025.generators.loc[n2025.generators.p_nom_extendable]\n",
    "print((gen_ex.groupby(\"carrier\").p_nom_max.sum()[[\"solar\", \"onwind\"]] / 1e6).round(1))"
   ]
  },
  {
   "cell_type": "markdown",
   "metadata": {},
   "source": [
    "# Costs"
   ]
  },
  {
   "cell_type": "code",
   "execution_count": 10,
   "metadata": {},
   "outputs": [
    {
     "data": {
      "text/html": [
       "<div>\n",
       "<style scoped>\n",
       "    .dataframe tbody tr th:only-of-type {\n",
       "        vertical-align: middle;\n",
       "    }\n",
       "\n",
       "    .dataframe tbody tr th {\n",
       "        vertical-align: top;\n",
       "    }\n",
       "\n",
       "    .dataframe thead th {\n",
       "        text-align: right;\n",
       "    }\n",
       "</style>\n",
       "<table border=\"1\" class=\"dataframe\">\n",
       "  <thead>\n",
       "    <tr style=\"text-align: right;\">\n",
       "      <th></th>\n",
       "      <th>2025</th>\n",
       "      <th>2030</th>\n",
       "      <th>2035</th>\n",
       "      <th>2040</th>\n",
       "      <th>2045</th>\n",
       "      <th>2050</th>\n",
       "    </tr>\n",
       "    <tr>\n",
       "      <th>Carrier</th>\n",
       "      <th></th>\n",
       "      <th></th>\n",
       "      <th></th>\n",
       "      <th></th>\n",
       "      <th></th>\n",
       "      <th></th>\n",
       "    </tr>\n",
       "  </thead>\n",
       "  <tbody>\n",
       "    <tr>\n",
       "      <th>Hydrogen</th>\n",
       "      <td>122.9</td>\n",
       "      <td>122.9</td>\n",
       "      <td>112.0</td>\n",
       "      <td>101.2</td>\n",
       "      <td>92.7</td>\n",
       "      <td>84.1</td>\n",
       "    </tr>\n",
       "    <tr>\n",
       "      <th>Ammonia</th>\n",
       "      <td>120.1</td>\n",
       "      <td>120.1</td>\n",
       "      <td>110.3</td>\n",
       "      <td>100.6</td>\n",
       "      <td>94.5</td>\n",
       "      <td>88.4</td>\n",
       "    </tr>\n",
       "    <tr>\n",
       "      <th>Methanol</th>\n",
       "      <td>165.6</td>\n",
       "      <td>165.6</td>\n",
       "      <td>151.9</td>\n",
       "      <td>138.2</td>\n",
       "      <td>128.5</td>\n",
       "      <td>118.7</td>\n",
       "    </tr>\n",
       "    <tr>\n",
       "      <th>Oil</th>\n",
       "      <td>234.2</td>\n",
       "      <td>234.2</td>\n",
       "      <td>214.0</td>\n",
       "      <td>193.9</td>\n",
       "      <td>178.6</td>\n",
       "      <td>163.4</td>\n",
       "    </tr>\n",
       "    <tr>\n",
       "      <th>Gas</th>\n",
       "      <td>128.4</td>\n",
       "      <td>128.4</td>\n",
       "      <td>118.2</td>\n",
       "      <td>108.1</td>\n",
       "      <td>102.2</td>\n",
       "      <td>96.2</td>\n",
       "    </tr>\n",
       "  </tbody>\n",
       "</table>\n",
       "</div>"
      ],
      "text/plain": [
       "           2025   2030   2035   2040   2045   2050\n",
       "Carrier                                           \n",
       "Hydrogen  122.9  122.9  112.0  101.2   92.7   84.1\n",
       "Ammonia   120.1  120.1  110.3  100.6   94.5   88.4\n",
       "Methanol  165.6  165.6  151.9  138.2  128.5  118.7\n",
       "Oil       234.2  234.2  214.0  193.9  178.6  163.4\n",
       "Gas       128.4  128.4  118.2  108.1  102.2   96.2"
      ]
     },
     "metadata": {},
     "output_type": "display_data"
    }
   ],
   "source": [
    "years = [2025, 2030, 2035, 2040, 2045, 2050]\n",
    "\n",
    "import_carriers = {\n",
    "    \"H2\": \"shipping-lh2\",\n",
    "    \"ammonia\": \"shipping-lnh3\",\n",
    "    \"methanol\": \"shipping-meoh\",\n",
    "    \"oil\": \"shipping-ftfuel\",\n",
    "    \"gas\": \"shipping-lch4\",\n",
    "}\n",
    "\n",
    "pretty_carrier_names = {\n",
    "    \"H2\": \"Hydrogen\",\n",
    "    \"ammonia\": \"Ammonia\",\n",
    "    \"methanol\": \"Methanol\",\n",
    "    \"oil\": \"Oil\",\n",
    "    \"gas\": \"Gas\",\n",
    "}\n",
    "\n",
    "costs = {\n",
    "    y: pd.read_csv(f\"../resources/Y1987_Bb/costs_{y}.csv\", index_col=[0, 1])\n",
    "    for y in years\n",
    "}\n",
    "\n",
    "# Create table with years as columns, carriers as rows and fuel costs as values\n",
    "import_costs = pd.DataFrame(index=import_carriers.keys(), columns=years)\n",
    "for y in years:\n",
    "    for carrier, name in import_carriers.items():\n",
    "        import_costs.at[carrier, y] = costs[y].at[(name, \"fuel\"), \"value\"]\n",
    "\n",
    "import_costs.index = import_costs.index.map(pretty_carrier_names)\n",
    "# Round values to 1 decimal\n",
    "import_costs = import_costs.astype(float).round(1)\n",
    "\n",
    "import_costs.index.name = \"Carrier\"\n",
    "\n",
    "display(import_costs)\n",
    "import_costs.to_csv(\"figures/import_costs.csv\")"
   ]
  },
  {
   "cell_type": "markdown",
   "metadata": {},
   "source": [
    "# Conversion technologies"
   ]
  },
  {
   "cell_type": "code",
   "execution_count": 11,
   "metadata": {},
   "outputs": [
    {
     "name": "stdout",
     "output_type": "stream",
     "text": [
      "Production of oil: ['oil green import' 'oil refining' 'Fischer-Tropsch' 'biomass to liquid']\n",
      "Production of gas: ['biogas to gas' 'gas green import' 'gas pipeline' 'Sabatier'\n",
      " 'gas pipeline new']\n",
      "Production of methanol: ['methanol green import' 'methanolisation' 'biomass-to-methanol CC'\n",
      " 'biomass-to-methanol']\n",
      "Production of NH3: ['ammonia green import' 'Haber-Bosch']\n",
      "Production of H2: ['H2 Electrolysis' 'H2 green import' 'solid biomass to hydrogen' 'SMR CC'\n",
      " 'SMR' 'ammonia cracker' 'H2 pipeline']\n"
     ]
    }
   ],
   "source": [
    "n = n2050\n",
    "\n",
    "for carrier in [\"oil\", \"gas\", \"methanol\", \"NH3\", \"H2\"]:\n",
    "    print(\n",
    "        f\"Production of {carrier}: {n.links.loc[n.links.bus1.map(n.buses.carrier) == carrier].carrier.unique()}\"\n",
    "    )"
   ]
  },
  {
   "cell_type": "markdown",
   "metadata": {},
   "source": [
    "# Storage technologies"
   ]
  },
  {
   "cell_type": "code",
   "execution_count": 12,
   "metadata": {},
   "outputs": [
    {
     "data": {
      "text/plain": [
       "bus\n",
       "EV battery                                      [EV battery]\n",
       "H2                                                [H2 Store]\n",
       "NH3                                          [ammonia store]\n",
       "battery                                            [battery]\n",
       "biogas                                              [biogas]\n",
       "co2                                                    [co2]\n",
       "co2 sequestered                            [co2 sequestered]\n",
       "co2 stored                                      [co2 stored]\n",
       "coal                                                  [coal]\n",
       "gas                                                    [gas]\n",
       "lignite                                            [lignite]\n",
       "methanol                                          [methanol]\n",
       "oil                                                    [oil]\n",
       "rural water tanks                        [rural water tanks]\n",
       "solid biomass                                [solid biomass]\n",
       "uranium                                            [uranium]\n",
       "urban central water tanks        [urban central water tanks]\n",
       "urban decentral water tanks    [urban decentral water tanks]\n",
       "Name: carrier, dtype: object"
      ]
     },
     "execution_count": 12,
     "metadata": {},
     "output_type": "execute_result"
    }
   ],
   "source": [
    "n.stores.carrier.groupby(n.stores.bus.map(n.buses.carrier)).unique()"
   ]
  },
  {
   "cell_type": "code",
   "execution_count": 13,
   "metadata": {},
   "outputs": [
    {
     "name": "stdout",
     "output_type": "stream",
     "text": [
      "Dispatch capacity:\n"
     ]
    },
    {
     "data": {
      "text/plain": [
       "carrier\n",
       "PHS       56.877539\n",
       "hydro    103.147440\n",
       "Name: p_nom, dtype: float64"
      ]
     },
     "metadata": {},
     "output_type": "display_data"
    },
    {
     "name": "stdout",
     "output_type": "stream",
     "text": [
      "Max hours:\n"
     ]
    },
    {
     "data": {
      "text/plain": [
       "carrier\n",
       "PHS       159.177158\n",
       "hydro    7614.689160\n",
       "Name: max_hours, dtype: float64"
      ]
     },
     "metadata": {},
     "output_type": "display_data"
    },
    {
     "name": "stdout",
     "output_type": "stream",
     "text": [
      "Storage capacity:\n"
     ]
    },
    {
     "data": {
      "text/plain": [
       "carrier\n",
       "PHS        8.660856\n",
       "hydro    152.405015\n",
       "dtype: float64"
      ]
     },
     "metadata": {},
     "output_type": "display_data"
    }
   ],
   "source": [
    "print(\"Dispatch capacity:\")\n",
    "display(n.storage_units.groupby(\"carrier\").p_nom.sum() / 1e3) # GW\n",
    "\n",
    "print(\"Max hours:\")\n",
    "display(n.storage_units.groupby(\"carrier\").max_hours.mean())\n",
    "\n",
    "print(\"Storage capacity:\")\n",
    "display(\n",
    "    (n.storage_units.p_nom * n.storage_units.max_hours)\n",
    "    .groupby(n.storage_units.carrier)\n",
    "    .sum()\n",
    "    / 1e6 # TWh\n",
    ")"
   ]
  },
  {
   "cell_type": "code",
   "execution_count": 14,
   "metadata": {},
   "outputs": [
    {
     "name": "stdout",
     "output_type": "stream",
     "text": [
      "EV battery capacity: 5.217019241210937\n",
      "EV v2g dispatch capacity: 2295.4884658203123\n"
     ]
    }
   ],
   "source": [
    "# BEV storage\n",
    "bev_battery = n.stores.loc[n.stores.carrier == \"EV battery\"].index\n",
    "print(\"EV battery capacity:\", n.stores.loc[bev_battery].e_nom.sum() / 1e6) # TWh\n",
    "\n",
    "# BEV v2g capacity\n",
    "print(\"EV v2g dispatch capacity:\", n.links.loc[n.links.carrier == \"V2G\", \"p_nom\"].sum() / 1e3) # GW"
   ]
  },
  {
   "cell_type": "code",
   "execution_count": 15,
   "metadata": {},
   "outputs": [
    {
     "data": {
      "image/png": "[encoded data removed]",
      "text/plain": [
       "<Figure size 640x480 with 1 Axes>"
      ]
     },
     "metadata": {},
     "output_type": "display_data"
    },
    {
     "data": {
      "text/plain": [
       "<Axes: xlabel='snapshot'>"
      ]
     },
     "execution_count": 15,
     "metadata": {},
     "output_type": "execute_result"
    },
    {
     "data": {
      "image/png": "[encoded data removed]",
      "text/plain": [
       "<Figure size 640x480 with 1 Axes>"
      ]
     },
     "metadata": {},
     "output_type": "display_data"
    }
   ],
   "source": [
    "# EV storage requirements and charging availability respectively\n",
    "\n",
    "n.stores_t.e_min_pu[bev_battery].mean(axis=1).loc[\n",
    "    \"1987-01-01 00:00\":\"1987-01-03 23:00\"\n",
    "].plot()\n",
    "plt.show()\n",
    "\n",
    "n.links_t.p_max_pu[n.links.loc[n.links.carrier == \"BEV charger\"].index].mean(\n",
    "    axis=1\n",
    ").loc[\"1987-01-01 00:00\":\"1987-01-07 23:00\"].plot()"
   ]
  },
  {
   "cell_type": "code",
   "execution_count": 16,
   "metadata": {},
   "outputs": [
    {
     "name": "stdout",
     "output_type": "stream",
     "text": [
      "Salt cavern locations: ['DE0 2 H2' 'DE0 3 H2' 'DE0 4 H2' 'DK0 0 H2' 'DK1 0 H2' 'ES0 1 H2'\n",
      " 'ES0 2 H2' 'GB3 0 H2' 'GB3 3 H2' 'GB4 0 H2' 'GR0 0 H2' 'NL0 0 H2'\n",
      " 'PL0 1 H2' 'PT0 0 H2']\n",
      "Max potential underground hydrogen storage: 2725.7192803964845\n"
     ]
    }
   ],
   "source": [
    "# Salt cavern hydrogen storage\n",
    "salt_caverns = n.stores.loc[(n.stores.carrier == \"H2 Store\") & (n.stores.index.str.endswith(\"-2050\"))]\n",
    "\n",
    "print(\"Salt cavern locations:\" , salt_caverns.bus.unique())\n",
    "\n",
    "print(\"Max potential underground hydrogen storage:\", salt_caverns.e_nom_max.sum() / 1e6) # TWh"
   ]
  },
  {
   "cell_type": "code",
   "execution_count": 17,
   "metadata": {},
   "outputs": [
    {
     "name": "stdout",
     "output_type": "stream",
     "text": [
      "Gas storage capacity: 1327.7402002265626\n"
     ]
    }
   ],
   "source": [
    "# Gas storage\n",
    "gas_storage = n2025.stores.loc[n2025.stores.carrier == \"gas\"]\n",
    "print(\"Gas storage capacity:\", gas_storage.e_nom_opt.sum() / 1e6) # TWh"
   ]
  },
  {
   "cell_type": "markdown",
   "metadata": {},
   "source": [
    "# Emissions"
   ]
  },
  {
   "cell_type": "code",
   "execution_count": 18,
   "metadata": {},
   "outputs": [
    {
     "name": "stdout",
     "output_type": "stream",
     "text": [
      "Process emissions in 2025: 189.81000328125\n",
      "Process emissions in 2050: 123.0600009375\n"
     ]
    }
   ],
   "source": [
    "print(\"Process emissions in 2025:\", n2025.statistics.energy_balance().loc[(\"Load\", \"process emissions\")].squeeze() / 1e6)\n",
    "print(\"Process emissions in 2050:\", n2050.statistics.energy_balance().loc[(\"Load\", \"process emissions\")].squeeze() / 1e6)"
   ]
  },
  {
   "cell_type": "markdown",
   "metadata": {},
   "source": [
    "# Value of hydrogen sector"
   ]
  },
  {
   "cell_type": "code",
   "execution_count": 19,
   "metadata": {},
   "outputs": [],
   "source": [
    "stat_names = [\n",
    "    \"h2prod\",\n",
    "    \"imports\",\n",
    "    \"system_cost\",\n",
    "    \"obj_bound_dual\",\n",
    "    \"h2price\",\n",
    "    \"h2value\",\n",
    "    \"co2seq\",\n",
    "    \"dac\",\n",
    "    \"captured_co2\",\n",
    "    \"elec_cap\",\n",
    "    \"elec_cf\",\n",
    "    \"total_onwind\",\n",
    "    \"total_offwind\",\n",
    "    \"total_solar\",\n",
    "    \"total_nuclear\",\n",
    "    \"total_h2_storage\",\n",
    "]\n",
    "\n",
    "fn = f\"cache_results.csv\"\n",
    "cols = pd.read_csv(fn).columns\n",
    "df = pd.read_csv(fn, index_col=list(range(len(cols) - len(stat_names))))\n",
    "\n",
    "# Convert \"year\" index level values from int to str\n",
    "df.index = df.index.set_levels(df.index.levels[1].astype(str), level=1)"
   ]
  },
  {
   "cell_type": "code",
   "execution_count": 20,
   "metadata": {},
   "outputs": [
    {
     "name": "stdout",
     "output_type": "stream",
     "text": [
      "Fraction of system cost covered by hydrogen value:\n"
     ]
    },
    {
     "data": {
      "text/plain": [
       "count    72.0\n",
       "mean      3.8\n",
       "std       3.5\n",
       "min       0.0\n",
       "25%       0.4\n",
       "50%       3.1\n",
       "75%       6.2\n",
       "max      12.4\n",
       "dtype: float64"
      ]
     },
     "metadata": {},
     "output_type": "display_data"
    },
    {
     "name": "stdout",
     "output_type": "stream",
     "text": [
      "Fraction of system cost covered by hydrogen value for values > 1%:\n"
     ]
    },
    {
     "data": {
      "text/plain": [
       "count    51.0\n",
       "mean      5.4\n",
       "std       3.1\n",
       "min       1.1\n",
       "25%       2.8\n",
       "50%       4.8\n",
       "75%       7.9\n",
       "max      12.4\n",
       "dtype: float64"
      ]
     },
     "metadata": {},
     "output_type": "display_data"
    },
    {
     "data": {
      "image/png": "[encoded data removed]",
      "text/plain": [
       "<Figure size 640x480 with 1 Axes>"
      ]
     },
     "metadata": {},
     "output_type": "display_data"
    }
   ],
   "source": [
    "frac_sys_cost = (df.h2value / df.system_cost).xs(\"opt\", level=\"sense\").xs(2050, level=\"horizon\")\n",
    "\n",
    "frac_sys_cost.hist(bins=20)\n",
    "\n",
    "print(\"Fraction of system cost covered by hydrogen value:\")\n",
    "display((frac_sys_cost * 100).describe().round(1))\n",
    "\n",
    "print(\"Fraction of system cost covered by hydrogen value for values > 1%:\")\n",
    "display((frac_sys_cost.loc[frac_sys_cost > 0.01] * 100).describe().round(1))"
   ]
  }
 ],
 "metadata": {
  "kernelspec": {
   "display_name": "eu-hydrogen",
   "language": "python",
   "name": "python3"
  },
  "language_info": {
   "codemirror_mode": {
    "name": "ipython",
    "version": 3
   },
   "file_extension": ".py",
   "mimetype": "text/x-python",
   "name": "python",
   "nbconvert_exporter": "python",
   "pygments_lexer": "ipython3",
   "version": "3.11.9"
  }
 },
 "nbformat": 4,
 "nbformat_minor": 2
}
